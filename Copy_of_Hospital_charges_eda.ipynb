{
  "cells": [
    {
      "cell_type": "markdown",
      "metadata": {
        "id": "view-in-github",
        "colab_type": "text"
      },
      "source": [
        "<a href=\"https://colab.research.google.com/github/jahnavireddyn/Hospital-Charges-Dataset/blob/main/Copy_of_Hospital_charges_eda.ipynb\" target=\"_parent\"><img src=\"https://colab.research.google.com/assets/colab-badge.svg\" alt=\"Open In Colab\"/></a>"
      ]
    },
    {
      "cell_type": "markdown",
      "id": "1c7991e1",
      "metadata": {
        "id": "1c7991e1"
      },
      "source": [
        "## Hospital Charges Dataset Analysis\n",
        "\n",
        "### This paper gives an insight of how we can store any hospital data digitally like hospital’s data records, payment records and how we can generate useful information from these records by using data analytics techniques.This dataset is focused on Hospital charges in The United States of America.This data is analyzed using python and pandas along with various other libraries for real time analysis and EDA as well.According to data analytics in healthcare informatics-The use of data analytics to enormous amounts of healthcare data collected on a daily basis has opened up a slew of new potential in recent years which allows for improvements in decision-making.At the business level it can lower costs and simplify internal operations and more.\n",
        "\n",
        "### Analysis in this dataset is done on 12 columns namely DRG Definition- Design and development of the Diagnosis  Related Group (a patient classification scheme which provides a means of relating the type of patients a hospital treats to the costs incurred by the hospital) Provider Id, Provider Name–Name of the hospital, Provider Street Address –Address of the hospital, Provider City, Provider State, Provider Zipcode, Hospital Referral Region Description, Total Discharges, Average Covered Charges, Average Total Payments, Average Medicare Payments containing 163066 rows.\n",
        "\n",
        "### This notebook provides data visualizations for :Most expensive treatments,Rank by cost at each state,Shows cheaper providers that are available within the state,Normalized distribution of inpatients across treatments.\n",
        "\n"
      ]
    },
    {
      "cell_type": "code",
      "source": [
        "from google.colab import drive\n",
        "drive.mount('/content/drive')"
      ],
      "metadata": {
        "colab": {
          "base_uri": "https://localhost:8080/"
        },
        "id": "VFYWCKfA4366",
        "outputId": "04fa7f67-d07f-4b17-9d4a-a494dcd10215"
      },
      "id": "VFYWCKfA4366",
      "execution_count": null,
      "outputs": [
        {
          "output_type": "stream",
          "name": "stdout",
          "text": [
            "Mounted at /content/drive\n"
          ]
        }
      ]
    },
    {
      "cell_type": "code",
      "execution_count": null,
      "id": "6ddc1ae7",
      "metadata": {
        "id": "6ddc1ae7"
      },
      "outputs": [],
      "source": [
        "#importing pandas library\n",
        "import pandas as pd \n",
        "#importing numpy library\n",
        "import numpy as np"
      ]
    },
    {
      "cell_type": "code",
      "execution_count": null,
      "id": "af3d07f9",
      "metadata": {
        "scrolled": true,
        "colab": {
          "base_uri": "https://localhost:8080/",
          "height": 871
        },
        "id": "af3d07f9",
        "outputId": "3d801d80-bb1f-40fb-d3dd-3d34119e5874"
      },
      "outputs": [
        {
          "output_type": "execute_result",
          "data": {
            "text/plain": [
              "                                  DRG Definition  Provider Id  \\\n",
              "0       039 - EXTRACRANIAL PROCEDURES W/O CC/MCC        10001   \n",
              "1       039 - EXTRACRANIAL PROCEDURES W/O CC/MCC        10005   \n",
              "2       039 - EXTRACRANIAL PROCEDURES W/O CC/MCC        10006   \n",
              "3       039 - EXTRACRANIAL PROCEDURES W/O CC/MCC        10011   \n",
              "4       039 - EXTRACRANIAL PROCEDURES W/O CC/MCC        10016   \n",
              "...                                          ...          ...   \n",
              "163060            948 - SIGNS & SYMPTOMS W/O MCC       670041   \n",
              "163061            948 - SIGNS & SYMPTOMS W/O MCC       670055   \n",
              "163062            948 - SIGNS & SYMPTOMS W/O MCC       670056   \n",
              "163063            948 - SIGNS & SYMPTOMS W/O MCC       670060   \n",
              "163064            948 - SIGNS & SYMPTOMS W/O MCC       670068   \n",
              "\n",
              "                                          Provider Name  \\\n",
              "0                      SOUTHEAST ALABAMA MEDICAL CENTER   \n",
              "1                         MARSHALL MEDICAL CENTER SOUTH   \n",
              "2                        ELIZA COFFEE MEMORIAL HOSPITAL   \n",
              "3                                     ST VINCENT'S EAST   \n",
              "4                         SHELBY BAPTIST MEDICAL CENTER   \n",
              "...                                                 ...   \n",
              "163060                  SETON MEDICAL CENTER WILLIAMSON   \n",
              "163061                     METHODIST STONE OAK HOSPITAL   \n",
              "163062                        SETON MEDICAL CENTER HAYS   \n",
              "163063       TEXAS REGIONAL MEDICAL CENTER AT SUNNYVALE   \n",
              "163064  TEXAS HEALTH PRESBYTERIAN HOSPITAL FLOWER MOUND   \n",
              "\n",
              "           Provider Street Address Provider City Provider State  \\\n",
              "0           1108 ROSS CLARK CIRCLE        DOTHAN             AL   \n",
              "1       2505 U S HIGHWAY 431 NORTH          BOAZ             AL   \n",
              "2               205 MARENGO STREET      FLORENCE             AL   \n",
              "3       50 MEDICAL PARK EAST DRIVE    BIRMINGHAM             AL   \n",
              "4          1000 FIRST STREET NORTH     ALABASTER             AL   \n",
              "...                            ...           ...            ...   \n",
              "163060           201 SETON PARKWAY    ROUND ROCK             TX   \n",
              "163061        1139 E SONTERRA BLVD   SAN ANTONIO             TX   \n",
              "163062              6001 KYLE PKWY          KYLE             TX   \n",
              "163063      231 SOUTH COLLINS ROAD     SUNNYVALE             TX   \n",
              "163064      4400 LONG PRAIRIE ROAD  FLOWER MOUND             TX   \n",
              "\n",
              "        Provider Zip Code Hospital Referral Region Description  \\\n",
              "0                   36301                          AL - Dothan   \n",
              "1                   35957                      AL - Birmingham   \n",
              "2                   35631                      AL - Birmingham   \n",
              "3                   35235                      AL - Birmingham   \n",
              "4                   35007                      AL - Birmingham   \n",
              "...                   ...                                  ...   \n",
              "163060              78664                          TX - Austin   \n",
              "163061              78258                     TX - San Antonio   \n",
              "163062              78640                          TX - Austin   \n",
              "163063              75182                          TX - Dallas   \n",
              "163064              75028                          TX - Dallas   \n",
              "\n",
              "         Total Discharges   Average Covered Charges   Average Total Payments   \\\n",
              "0                       91                 $32963.07                 $5777.24   \n",
              "1                       14                 $15131.85                 $5787.57   \n",
              "2                       24                 $37560.37                 $5434.95   \n",
              "3                       25                 $13998.28                 $5417.56   \n",
              "4                       18                 $31633.27                 $5658.33   \n",
              "...                    ...                       ...                      ...   \n",
              "163060                  23                 $26314.39                 $3806.86   \n",
              "163061                  11                 $21704.72                 $4027.36   \n",
              "163062                  19                 $39121.73                 $5704.36   \n",
              "163063                  11                 $28873.09                 $7663.09   \n",
              "163064                  12                 $15042.00                 $3539.75   \n",
              "\n",
              "       Average Medicare Payments  \n",
              "0                       $4763.73  \n",
              "1                       $4976.71  \n",
              "2                       $4453.79  \n",
              "3                       $4129.16  \n",
              "4                       $4851.44  \n",
              "...                          ...  \n",
              "163060                  $3071.39  \n",
              "163061                  $2649.72  \n",
              "163062                  $4058.36  \n",
              "163063                  $6848.54  \n",
              "163064                  $2887.41  \n",
              "\n",
              "[163065 rows x 12 columns]"
            ],
            "text/html": [
              "\n",
              "  <div id=\"df-9383f384-799b-4f3c-9353-25b2b13b6749\">\n",
              "    <div class=\"colab-df-container\">\n",
              "      <div>\n",
              "<style scoped>\n",
              "    .dataframe tbody tr th:only-of-type {\n",
              "        vertical-align: middle;\n",
              "    }\n",
              "\n",
              "    .dataframe tbody tr th {\n",
              "        vertical-align: top;\n",
              "    }\n",
              "\n",
              "    .dataframe thead th {\n",
              "        text-align: right;\n",
              "    }\n",
              "</style>\n",
              "<table border=\"1\" class=\"dataframe\">\n",
              "  <thead>\n",
              "    <tr style=\"text-align: right;\">\n",
              "      <th></th>\n",
              "      <th>DRG Definition</th>\n",
              "      <th>Provider Id</th>\n",
              "      <th>Provider Name</th>\n",
              "      <th>Provider Street Address</th>\n",
              "      <th>Provider City</th>\n",
              "      <th>Provider State</th>\n",
              "      <th>Provider Zip Code</th>\n",
              "      <th>Hospital Referral Region Description</th>\n",
              "      <th>Total Discharges</th>\n",
              "      <th>Average Covered Charges</th>\n",
              "      <th>Average Total Payments</th>\n",
              "      <th>Average Medicare Payments</th>\n",
              "    </tr>\n",
              "  </thead>\n",
              "  <tbody>\n",
              "    <tr>\n",
              "      <th>0</th>\n",
              "      <td>039 - EXTRACRANIAL PROCEDURES W/O CC/MCC</td>\n",
              "      <td>10001</td>\n",
              "      <td>SOUTHEAST ALABAMA MEDICAL CENTER</td>\n",
              "      <td>1108 ROSS CLARK CIRCLE</td>\n",
              "      <td>DOTHAN</td>\n",
              "      <td>AL</td>\n",
              "      <td>36301</td>\n",
              "      <td>AL - Dothan</td>\n",
              "      <td>91</td>\n",
              "      <td>$32963.07</td>\n",
              "      <td>$5777.24</td>\n",
              "      <td>$4763.73</td>\n",
              "    </tr>\n",
              "    <tr>\n",
              "      <th>1</th>\n",
              "      <td>039 - EXTRACRANIAL PROCEDURES W/O CC/MCC</td>\n",
              "      <td>10005</td>\n",
              "      <td>MARSHALL MEDICAL CENTER SOUTH</td>\n",
              "      <td>2505 U S HIGHWAY 431 NORTH</td>\n",
              "      <td>BOAZ</td>\n",
              "      <td>AL</td>\n",
              "      <td>35957</td>\n",
              "      <td>AL - Birmingham</td>\n",
              "      <td>14</td>\n",
              "      <td>$15131.85</td>\n",
              "      <td>$5787.57</td>\n",
              "      <td>$4976.71</td>\n",
              "    </tr>\n",
              "    <tr>\n",
              "      <th>2</th>\n",
              "      <td>039 - EXTRACRANIAL PROCEDURES W/O CC/MCC</td>\n",
              "      <td>10006</td>\n",
              "      <td>ELIZA COFFEE MEMORIAL HOSPITAL</td>\n",
              "      <td>205 MARENGO STREET</td>\n",
              "      <td>FLORENCE</td>\n",
              "      <td>AL</td>\n",
              "      <td>35631</td>\n",
              "      <td>AL - Birmingham</td>\n",
              "      <td>24</td>\n",
              "      <td>$37560.37</td>\n",
              "      <td>$5434.95</td>\n",
              "      <td>$4453.79</td>\n",
              "    </tr>\n",
              "    <tr>\n",
              "      <th>3</th>\n",
              "      <td>039 - EXTRACRANIAL PROCEDURES W/O CC/MCC</td>\n",
              "      <td>10011</td>\n",
              "      <td>ST VINCENT'S EAST</td>\n",
              "      <td>50 MEDICAL PARK EAST DRIVE</td>\n",
              "      <td>BIRMINGHAM</td>\n",
              "      <td>AL</td>\n",
              "      <td>35235</td>\n",
              "      <td>AL - Birmingham</td>\n",
              "      <td>25</td>\n",
              "      <td>$13998.28</td>\n",
              "      <td>$5417.56</td>\n",
              "      <td>$4129.16</td>\n",
              "    </tr>\n",
              "    <tr>\n",
              "      <th>4</th>\n",
              "      <td>039 - EXTRACRANIAL PROCEDURES W/O CC/MCC</td>\n",
              "      <td>10016</td>\n",
              "      <td>SHELBY BAPTIST MEDICAL CENTER</td>\n",
              "      <td>1000 FIRST STREET NORTH</td>\n",
              "      <td>ALABASTER</td>\n",
              "      <td>AL</td>\n",
              "      <td>35007</td>\n",
              "      <td>AL - Birmingham</td>\n",
              "      <td>18</td>\n",
              "      <td>$31633.27</td>\n",
              "      <td>$5658.33</td>\n",
              "      <td>$4851.44</td>\n",
              "    </tr>\n",
              "    <tr>\n",
              "      <th>...</th>\n",
              "      <td>...</td>\n",
              "      <td>...</td>\n",
              "      <td>...</td>\n",
              "      <td>...</td>\n",
              "      <td>...</td>\n",
              "      <td>...</td>\n",
              "      <td>...</td>\n",
              "      <td>...</td>\n",
              "      <td>...</td>\n",
              "      <td>...</td>\n",
              "      <td>...</td>\n",
              "      <td>...</td>\n",
              "    </tr>\n",
              "    <tr>\n",
              "      <th>163060</th>\n",
              "      <td>948 - SIGNS &amp; SYMPTOMS W/O MCC</td>\n",
              "      <td>670041</td>\n",
              "      <td>SETON MEDICAL CENTER WILLIAMSON</td>\n",
              "      <td>201 SETON PARKWAY</td>\n",
              "      <td>ROUND ROCK</td>\n",
              "      <td>TX</td>\n",
              "      <td>78664</td>\n",
              "      <td>TX - Austin</td>\n",
              "      <td>23</td>\n",
              "      <td>$26314.39</td>\n",
              "      <td>$3806.86</td>\n",
              "      <td>$3071.39</td>\n",
              "    </tr>\n",
              "    <tr>\n",
              "      <th>163061</th>\n",
              "      <td>948 - SIGNS &amp; SYMPTOMS W/O MCC</td>\n",
              "      <td>670055</td>\n",
              "      <td>METHODIST STONE OAK HOSPITAL</td>\n",
              "      <td>1139 E SONTERRA BLVD</td>\n",
              "      <td>SAN ANTONIO</td>\n",
              "      <td>TX</td>\n",
              "      <td>78258</td>\n",
              "      <td>TX - San Antonio</td>\n",
              "      <td>11</td>\n",
              "      <td>$21704.72</td>\n",
              "      <td>$4027.36</td>\n",
              "      <td>$2649.72</td>\n",
              "    </tr>\n",
              "    <tr>\n",
              "      <th>163062</th>\n",
              "      <td>948 - SIGNS &amp; SYMPTOMS W/O MCC</td>\n",
              "      <td>670056</td>\n",
              "      <td>SETON MEDICAL CENTER HAYS</td>\n",
              "      <td>6001 KYLE PKWY</td>\n",
              "      <td>KYLE</td>\n",
              "      <td>TX</td>\n",
              "      <td>78640</td>\n",
              "      <td>TX - Austin</td>\n",
              "      <td>19</td>\n",
              "      <td>$39121.73</td>\n",
              "      <td>$5704.36</td>\n",
              "      <td>$4058.36</td>\n",
              "    </tr>\n",
              "    <tr>\n",
              "      <th>163063</th>\n",
              "      <td>948 - SIGNS &amp; SYMPTOMS W/O MCC</td>\n",
              "      <td>670060</td>\n",
              "      <td>TEXAS REGIONAL MEDICAL CENTER AT SUNNYVALE</td>\n",
              "      <td>231 SOUTH COLLINS ROAD</td>\n",
              "      <td>SUNNYVALE</td>\n",
              "      <td>TX</td>\n",
              "      <td>75182</td>\n",
              "      <td>TX - Dallas</td>\n",
              "      <td>11</td>\n",
              "      <td>$28873.09</td>\n",
              "      <td>$7663.09</td>\n",
              "      <td>$6848.54</td>\n",
              "    </tr>\n",
              "    <tr>\n",
              "      <th>163064</th>\n",
              "      <td>948 - SIGNS &amp; SYMPTOMS W/O MCC</td>\n",
              "      <td>670068</td>\n",
              "      <td>TEXAS HEALTH PRESBYTERIAN HOSPITAL FLOWER MOUND</td>\n",
              "      <td>4400 LONG PRAIRIE ROAD</td>\n",
              "      <td>FLOWER MOUND</td>\n",
              "      <td>TX</td>\n",
              "      <td>75028</td>\n",
              "      <td>TX - Dallas</td>\n",
              "      <td>12</td>\n",
              "      <td>$15042.00</td>\n",
              "      <td>$3539.75</td>\n",
              "      <td>$2887.41</td>\n",
              "    </tr>\n",
              "  </tbody>\n",
              "</table>\n",
              "<p>163065 rows × 12 columns</p>\n",
              "</div>\n",
              "      <button class=\"colab-df-convert\" onclick=\"convertToInteractive('df-9383f384-799b-4f3c-9353-25b2b13b6749')\"\n",
              "              title=\"Convert this dataframe to an interactive table.\"\n",
              "              style=\"display:none;\">\n",
              "        \n",
              "  <svg xmlns=\"http://www.w3.org/2000/svg\" height=\"24px\"viewBox=\"0 0 24 24\"\n",
              "       width=\"24px\">\n",
              "    <path d=\"M0 0h24v24H0V0z\" fill=\"none\"/>\n",
              "    <path d=\"M18.56 5.44l.94 2.06.94-2.06 2.06-.94-2.06-.94-.94-2.06-.94 2.06-2.06.94zm-11 1L8.5 8.5l.94-2.06 2.06-.94-2.06-.94L8.5 2.5l-.94 2.06-2.06.94zm10 10l.94 2.06.94-2.06 2.06-.94-2.06-.94-.94-2.06-.94 2.06-2.06.94z\"/><path d=\"M17.41 7.96l-1.37-1.37c-.4-.4-.92-.59-1.43-.59-.52 0-1.04.2-1.43.59L10.3 9.45l-7.72 7.72c-.78.78-.78 2.05 0 2.83L4 21.41c.39.39.9.59 1.41.59.51 0 1.02-.2 1.41-.59l7.78-7.78 2.81-2.81c.8-.78.8-2.07 0-2.86zM5.41 20L4 18.59l7.72-7.72 1.47 1.35L5.41 20z\"/>\n",
              "  </svg>\n",
              "      </button>\n",
              "      \n",
              "  <style>\n",
              "    .colab-df-container {\n",
              "      display:flex;\n",
              "      flex-wrap:wrap;\n",
              "      gap: 12px;\n",
              "    }\n",
              "\n",
              "    .colab-df-convert {\n",
              "      background-color: #E8F0FE;\n",
              "      border: none;\n",
              "      border-radius: 50%;\n",
              "      cursor: pointer;\n",
              "      display: none;\n",
              "      fill: #1967D2;\n",
              "      height: 32px;\n",
              "      padding: 0 0 0 0;\n",
              "      width: 32px;\n",
              "    }\n",
              "\n",
              "    .colab-df-convert:hover {\n",
              "      background-color: #E2EBFA;\n",
              "      box-shadow: 0px 1px 2px rgba(60, 64, 67, 0.3), 0px 1px 3px 1px rgba(60, 64, 67, 0.15);\n",
              "      fill: #174EA6;\n",
              "    }\n",
              "\n",
              "    [theme=dark] .colab-df-convert {\n",
              "      background-color: #3B4455;\n",
              "      fill: #D2E3FC;\n",
              "    }\n",
              "\n",
              "    [theme=dark] .colab-df-convert:hover {\n",
              "      background-color: #434B5C;\n",
              "      box-shadow: 0px 1px 3px 1px rgba(0, 0, 0, 0.15);\n",
              "      filter: drop-shadow(0px 1px 2px rgba(0, 0, 0, 0.3));\n",
              "      fill: #FFFFFF;\n",
              "    }\n",
              "  </style>\n",
              "\n",
              "      <script>\n",
              "        const buttonEl =\n",
              "          document.querySelector('#df-9383f384-799b-4f3c-9353-25b2b13b6749 button.colab-df-convert');\n",
              "        buttonEl.style.display =\n",
              "          google.colab.kernel.accessAllowed ? 'block' : 'none';\n",
              "\n",
              "        async function convertToInteractive(key) {\n",
              "          const element = document.querySelector('#df-9383f384-799b-4f3c-9353-25b2b13b6749');\n",
              "          const dataTable =\n",
              "            await google.colab.kernel.invokeFunction('convertToInteractive',\n",
              "                                                     [key], {});\n",
              "          if (!dataTable) return;\n",
              "\n",
              "          const docLinkHtml = 'Like what you see? Visit the ' +\n",
              "            '<a target=\"_blank\" href=https://colab.research.google.com/notebooks/data_table.ipynb>data table notebook</a>'\n",
              "            + ' to learn more about interactive tables.';\n",
              "          element.innerHTML = '';\n",
              "          dataTable['output_type'] = 'display_data';\n",
              "          await google.colab.output.renderOutput(dataTable, element);\n",
              "          const docLink = document.createElement('div');\n",
              "          docLink.innerHTML = docLinkHtml;\n",
              "          element.appendChild(docLink);\n",
              "        }\n",
              "      </script>\n",
              "    </div>\n",
              "  </div>\n",
              "  "
            ]
          },
          "metadata": {},
          "execution_count": 3
        }
      ],
      "source": [
        "#importing csv file hospital_charges\n",
        "\n",
        "data = pd.read_csv('/content/drive/MyDrive/EDA PRO/hospital_charges.csv')  \n",
        "data"
      ]
    },
    {
      "cell_type": "code",
      "execution_count": null,
      "id": "1c369cc2",
      "metadata": {
        "id": "1c369cc2",
        "outputId": "9e0bd87b-ccae-4892-e709-d9c97c963758",
        "colab": {
          "base_uri": "https://localhost:8080/",
          "height": 452
        }
      },
      "outputs": [
        {
          "output_type": "execute_result",
          "data": {
            "text/plain": [
              "                             DRG Definition  Provider Id  \\\n",
              "0  039 - EXTRACRANIAL PROCEDURES W/O CC/MCC        10001   \n",
              "1  039 - EXTRACRANIAL PROCEDURES W/O CC/MCC        10005   \n",
              "2  039 - EXTRACRANIAL PROCEDURES W/O CC/MCC        10006   \n",
              "3  039 - EXTRACRANIAL PROCEDURES W/O CC/MCC        10011   \n",
              "4  039 - EXTRACRANIAL PROCEDURES W/O CC/MCC        10016   \n",
              "\n",
              "                      Provider Name     Provider Street Address Provider City  \\\n",
              "0  SOUTHEAST ALABAMA MEDICAL CENTER      1108 ROSS CLARK CIRCLE        DOTHAN   \n",
              "1     MARSHALL MEDICAL CENTER SOUTH  2505 U S HIGHWAY 431 NORTH          BOAZ   \n",
              "2    ELIZA COFFEE MEMORIAL HOSPITAL          205 MARENGO STREET      FLORENCE   \n",
              "3                 ST VINCENT'S EAST  50 MEDICAL PARK EAST DRIVE    BIRMINGHAM   \n",
              "4     SHELBY BAPTIST MEDICAL CENTER     1000 FIRST STREET NORTH     ALABASTER   \n",
              "\n",
              "  Provider State  Provider Zip Code Hospital Referral Region Description  \\\n",
              "0             AL              36301                          AL - Dothan   \n",
              "1             AL              35957                      AL - Birmingham   \n",
              "2             AL              35631                      AL - Birmingham   \n",
              "3             AL              35235                      AL - Birmingham   \n",
              "4             AL              35007                      AL - Birmingham   \n",
              "\n",
              "    Total Discharges   Average Covered Charges   Average Total Payments   \\\n",
              "0                  91                 $32963.07                 $5777.24   \n",
              "1                  14                 $15131.85                 $5787.57   \n",
              "2                  24                 $37560.37                 $5434.95   \n",
              "3                  25                 $13998.28                 $5417.56   \n",
              "4                  18                 $31633.27                 $5658.33   \n",
              "\n",
              "  Average Medicare Payments  \n",
              "0                  $4763.73  \n",
              "1                  $4976.71  \n",
              "2                  $4453.79  \n",
              "3                  $4129.16  \n",
              "4                  $4851.44  "
            ],
            "text/html": [
              "\n",
              "  <div id=\"df-dfdac6e8-061a-4788-9dea-d15f814cffbe\">\n",
              "    <div class=\"colab-df-container\">\n",
              "      <div>\n",
              "<style scoped>\n",
              "    .dataframe tbody tr th:only-of-type {\n",
              "        vertical-align: middle;\n",
              "    }\n",
              "\n",
              "    .dataframe tbody tr th {\n",
              "        vertical-align: top;\n",
              "    }\n",
              "\n",
              "    .dataframe thead th {\n",
              "        text-align: right;\n",
              "    }\n",
              "</style>\n",
              "<table border=\"1\" class=\"dataframe\">\n",
              "  <thead>\n",
              "    <tr style=\"text-align: right;\">\n",
              "      <th></th>\n",
              "      <th>DRG Definition</th>\n",
              "      <th>Provider Id</th>\n",
              "      <th>Provider Name</th>\n",
              "      <th>Provider Street Address</th>\n",
              "      <th>Provider City</th>\n",
              "      <th>Provider State</th>\n",
              "      <th>Provider Zip Code</th>\n",
              "      <th>Hospital Referral Region Description</th>\n",
              "      <th>Total Discharges</th>\n",
              "      <th>Average Covered Charges</th>\n",
              "      <th>Average Total Payments</th>\n",
              "      <th>Average Medicare Payments</th>\n",
              "    </tr>\n",
              "  </thead>\n",
              "  <tbody>\n",
              "    <tr>\n",
              "      <th>0</th>\n",
              "      <td>039 - EXTRACRANIAL PROCEDURES W/O CC/MCC</td>\n",
              "      <td>10001</td>\n",
              "      <td>SOUTHEAST ALABAMA MEDICAL CENTER</td>\n",
              "      <td>1108 ROSS CLARK CIRCLE</td>\n",
              "      <td>DOTHAN</td>\n",
              "      <td>AL</td>\n",
              "      <td>36301</td>\n",
              "      <td>AL - Dothan</td>\n",
              "      <td>91</td>\n",
              "      <td>$32963.07</td>\n",
              "      <td>$5777.24</td>\n",
              "      <td>$4763.73</td>\n",
              "    </tr>\n",
              "    <tr>\n",
              "      <th>1</th>\n",
              "      <td>039 - EXTRACRANIAL PROCEDURES W/O CC/MCC</td>\n",
              "      <td>10005</td>\n",
              "      <td>MARSHALL MEDICAL CENTER SOUTH</td>\n",
              "      <td>2505 U S HIGHWAY 431 NORTH</td>\n",
              "      <td>BOAZ</td>\n",
              "      <td>AL</td>\n",
              "      <td>35957</td>\n",
              "      <td>AL - Birmingham</td>\n",
              "      <td>14</td>\n",
              "      <td>$15131.85</td>\n",
              "      <td>$5787.57</td>\n",
              "      <td>$4976.71</td>\n",
              "    </tr>\n",
              "    <tr>\n",
              "      <th>2</th>\n",
              "      <td>039 - EXTRACRANIAL PROCEDURES W/O CC/MCC</td>\n",
              "      <td>10006</td>\n",
              "      <td>ELIZA COFFEE MEMORIAL HOSPITAL</td>\n",
              "      <td>205 MARENGO STREET</td>\n",
              "      <td>FLORENCE</td>\n",
              "      <td>AL</td>\n",
              "      <td>35631</td>\n",
              "      <td>AL - Birmingham</td>\n",
              "      <td>24</td>\n",
              "      <td>$37560.37</td>\n",
              "      <td>$5434.95</td>\n",
              "      <td>$4453.79</td>\n",
              "    </tr>\n",
              "    <tr>\n",
              "      <th>3</th>\n",
              "      <td>039 - EXTRACRANIAL PROCEDURES W/O CC/MCC</td>\n",
              "      <td>10011</td>\n",
              "      <td>ST VINCENT'S EAST</td>\n",
              "      <td>50 MEDICAL PARK EAST DRIVE</td>\n",
              "      <td>BIRMINGHAM</td>\n",
              "      <td>AL</td>\n",
              "      <td>35235</td>\n",
              "      <td>AL - Birmingham</td>\n",
              "      <td>25</td>\n",
              "      <td>$13998.28</td>\n",
              "      <td>$5417.56</td>\n",
              "      <td>$4129.16</td>\n",
              "    </tr>\n",
              "    <tr>\n",
              "      <th>4</th>\n",
              "      <td>039 - EXTRACRANIAL PROCEDURES W/O CC/MCC</td>\n",
              "      <td>10016</td>\n",
              "      <td>SHELBY BAPTIST MEDICAL CENTER</td>\n",
              "      <td>1000 FIRST STREET NORTH</td>\n",
              "      <td>ALABASTER</td>\n",
              "      <td>AL</td>\n",
              "      <td>35007</td>\n",
              "      <td>AL - Birmingham</td>\n",
              "      <td>18</td>\n",
              "      <td>$31633.27</td>\n",
              "      <td>$5658.33</td>\n",
              "      <td>$4851.44</td>\n",
              "    </tr>\n",
              "  </tbody>\n",
              "</table>\n",
              "</div>\n",
              "      <button class=\"colab-df-convert\" onclick=\"convertToInteractive('df-dfdac6e8-061a-4788-9dea-d15f814cffbe')\"\n",
              "              title=\"Convert this dataframe to an interactive table.\"\n",
              "              style=\"display:none;\">\n",
              "        \n",
              "  <svg xmlns=\"http://www.w3.org/2000/svg\" height=\"24px\"viewBox=\"0 0 24 24\"\n",
              "       width=\"24px\">\n",
              "    <path d=\"M0 0h24v24H0V0z\" fill=\"none\"/>\n",
              "    <path d=\"M18.56 5.44l.94 2.06.94-2.06 2.06-.94-2.06-.94-.94-2.06-.94 2.06-2.06.94zm-11 1L8.5 8.5l.94-2.06 2.06-.94-2.06-.94L8.5 2.5l-.94 2.06-2.06.94zm10 10l.94 2.06.94-2.06 2.06-.94-2.06-.94-.94-2.06-.94 2.06-2.06.94z\"/><path d=\"M17.41 7.96l-1.37-1.37c-.4-.4-.92-.59-1.43-.59-.52 0-1.04.2-1.43.59L10.3 9.45l-7.72 7.72c-.78.78-.78 2.05 0 2.83L4 21.41c.39.39.9.59 1.41.59.51 0 1.02-.2 1.41-.59l7.78-7.78 2.81-2.81c.8-.78.8-2.07 0-2.86zM5.41 20L4 18.59l7.72-7.72 1.47 1.35L5.41 20z\"/>\n",
              "  </svg>\n",
              "      </button>\n",
              "      \n",
              "  <style>\n",
              "    .colab-df-container {\n",
              "      display:flex;\n",
              "      flex-wrap:wrap;\n",
              "      gap: 12px;\n",
              "    }\n",
              "\n",
              "    .colab-df-convert {\n",
              "      background-color: #E8F0FE;\n",
              "      border: none;\n",
              "      border-radius: 50%;\n",
              "      cursor: pointer;\n",
              "      display: none;\n",
              "      fill: #1967D2;\n",
              "      height: 32px;\n",
              "      padding: 0 0 0 0;\n",
              "      width: 32px;\n",
              "    }\n",
              "\n",
              "    .colab-df-convert:hover {\n",
              "      background-color: #E2EBFA;\n",
              "      box-shadow: 0px 1px 2px rgba(60, 64, 67, 0.3), 0px 1px 3px 1px rgba(60, 64, 67, 0.15);\n",
              "      fill: #174EA6;\n",
              "    }\n",
              "\n",
              "    [theme=dark] .colab-df-convert {\n",
              "      background-color: #3B4455;\n",
              "      fill: #D2E3FC;\n",
              "    }\n",
              "\n",
              "    [theme=dark] .colab-df-convert:hover {\n",
              "      background-color: #434B5C;\n",
              "      box-shadow: 0px 1px 3px 1px rgba(0, 0, 0, 0.15);\n",
              "      filter: drop-shadow(0px 1px 2px rgba(0, 0, 0, 0.3));\n",
              "      fill: #FFFFFF;\n",
              "    }\n",
              "  </style>\n",
              "\n",
              "      <script>\n",
              "        const buttonEl =\n",
              "          document.querySelector('#df-dfdac6e8-061a-4788-9dea-d15f814cffbe button.colab-df-convert');\n",
              "        buttonEl.style.display =\n",
              "          google.colab.kernel.accessAllowed ? 'block' : 'none';\n",
              "\n",
              "        async function convertToInteractive(key) {\n",
              "          const element = document.querySelector('#df-dfdac6e8-061a-4788-9dea-d15f814cffbe');\n",
              "          const dataTable =\n",
              "            await google.colab.kernel.invokeFunction('convertToInteractive',\n",
              "                                                     [key], {});\n",
              "          if (!dataTable) return;\n",
              "\n",
              "          const docLinkHtml = 'Like what you see? Visit the ' +\n",
              "            '<a target=\"_blank\" href=https://colab.research.google.com/notebooks/data_table.ipynb>data table notebook</a>'\n",
              "            + ' to learn more about interactive tables.';\n",
              "          element.innerHTML = '';\n",
              "          dataTable['output_type'] = 'display_data';\n",
              "          await google.colab.output.renderOutput(dataTable, element);\n",
              "          const docLink = document.createElement('div');\n",
              "          docLink.innerHTML = docLinkHtml;\n",
              "          element.appendChild(docLink);\n",
              "        }\n",
              "      </script>\n",
              "    </div>\n",
              "  </div>\n",
              "  "
            ]
          },
          "metadata": {},
          "execution_count": 4
        }
      ],
      "source": [
        "#previewing first 5 rows of the data\n",
        "\n",
        "data.head()"
      ]
    },
    {
      "cell_type": "code",
      "execution_count": null,
      "id": "d3b27f9e",
      "metadata": {
        "id": "d3b27f9e",
        "outputId": "819b9e67-b9c3-4659-93e5-dc17553fc312",
        "colab": {
          "base_uri": "https://localhost:8080/",
          "height": 469
        }
      },
      "outputs": [
        {
          "output_type": "execute_result",
          "data": {
            "text/plain": [
              "                        DRG Definition  Provider Id  \\\n",
              "163060  948 - SIGNS & SYMPTOMS W/O MCC       670041   \n",
              "163061  948 - SIGNS & SYMPTOMS W/O MCC       670055   \n",
              "163062  948 - SIGNS & SYMPTOMS W/O MCC       670056   \n",
              "163063  948 - SIGNS & SYMPTOMS W/O MCC       670060   \n",
              "163064  948 - SIGNS & SYMPTOMS W/O MCC       670068   \n",
              "\n",
              "                                          Provider Name  \\\n",
              "163060                  SETON MEDICAL CENTER WILLIAMSON   \n",
              "163061                     METHODIST STONE OAK HOSPITAL   \n",
              "163062                        SETON MEDICAL CENTER HAYS   \n",
              "163063       TEXAS REGIONAL MEDICAL CENTER AT SUNNYVALE   \n",
              "163064  TEXAS HEALTH PRESBYTERIAN HOSPITAL FLOWER MOUND   \n",
              "\n",
              "       Provider Street Address Provider City Provider State  \\\n",
              "163060       201 SETON PARKWAY    ROUND ROCK             TX   \n",
              "163061    1139 E SONTERRA BLVD   SAN ANTONIO             TX   \n",
              "163062          6001 KYLE PKWY          KYLE             TX   \n",
              "163063  231 SOUTH COLLINS ROAD     SUNNYVALE             TX   \n",
              "163064  4400 LONG PRAIRIE ROAD  FLOWER MOUND             TX   \n",
              "\n",
              "        Provider Zip Code Hospital Referral Region Description  \\\n",
              "163060              78664                          TX - Austin   \n",
              "163061              78258                     TX - San Antonio   \n",
              "163062              78640                          TX - Austin   \n",
              "163063              75182                          TX - Dallas   \n",
              "163064              75028                          TX - Dallas   \n",
              "\n",
              "         Total Discharges   Average Covered Charges   Average Total Payments   \\\n",
              "163060                  23                 $26314.39                 $3806.86   \n",
              "163061                  11                 $21704.72                 $4027.36   \n",
              "163062                  19                 $39121.73                 $5704.36   \n",
              "163063                  11                 $28873.09                 $7663.09   \n",
              "163064                  12                 $15042.00                 $3539.75   \n",
              "\n",
              "       Average Medicare Payments  \n",
              "163060                  $3071.39  \n",
              "163061                  $2649.72  \n",
              "163062                  $4058.36  \n",
              "163063                  $6848.54  \n",
              "163064                  $2887.41  "
            ],
            "text/html": [
              "\n",
              "  <div id=\"df-aea69c8b-6983-4ee4-904c-3dd44ab8250a\">\n",
              "    <div class=\"colab-df-container\">\n",
              "      <div>\n",
              "<style scoped>\n",
              "    .dataframe tbody tr th:only-of-type {\n",
              "        vertical-align: middle;\n",
              "    }\n",
              "\n",
              "    .dataframe tbody tr th {\n",
              "        vertical-align: top;\n",
              "    }\n",
              "\n",
              "    .dataframe thead th {\n",
              "        text-align: right;\n",
              "    }\n",
              "</style>\n",
              "<table border=\"1\" class=\"dataframe\">\n",
              "  <thead>\n",
              "    <tr style=\"text-align: right;\">\n",
              "      <th></th>\n",
              "      <th>DRG Definition</th>\n",
              "      <th>Provider Id</th>\n",
              "      <th>Provider Name</th>\n",
              "      <th>Provider Street Address</th>\n",
              "      <th>Provider City</th>\n",
              "      <th>Provider State</th>\n",
              "      <th>Provider Zip Code</th>\n",
              "      <th>Hospital Referral Region Description</th>\n",
              "      <th>Total Discharges</th>\n",
              "      <th>Average Covered Charges</th>\n",
              "      <th>Average Total Payments</th>\n",
              "      <th>Average Medicare Payments</th>\n",
              "    </tr>\n",
              "  </thead>\n",
              "  <tbody>\n",
              "    <tr>\n",
              "      <th>163060</th>\n",
              "      <td>948 - SIGNS &amp; SYMPTOMS W/O MCC</td>\n",
              "      <td>670041</td>\n",
              "      <td>SETON MEDICAL CENTER WILLIAMSON</td>\n",
              "      <td>201 SETON PARKWAY</td>\n",
              "      <td>ROUND ROCK</td>\n",
              "      <td>TX</td>\n",
              "      <td>78664</td>\n",
              "      <td>TX - Austin</td>\n",
              "      <td>23</td>\n",
              "      <td>$26314.39</td>\n",
              "      <td>$3806.86</td>\n",
              "      <td>$3071.39</td>\n",
              "    </tr>\n",
              "    <tr>\n",
              "      <th>163061</th>\n",
              "      <td>948 - SIGNS &amp; SYMPTOMS W/O MCC</td>\n",
              "      <td>670055</td>\n",
              "      <td>METHODIST STONE OAK HOSPITAL</td>\n",
              "      <td>1139 E SONTERRA BLVD</td>\n",
              "      <td>SAN ANTONIO</td>\n",
              "      <td>TX</td>\n",
              "      <td>78258</td>\n",
              "      <td>TX - San Antonio</td>\n",
              "      <td>11</td>\n",
              "      <td>$21704.72</td>\n",
              "      <td>$4027.36</td>\n",
              "      <td>$2649.72</td>\n",
              "    </tr>\n",
              "    <tr>\n",
              "      <th>163062</th>\n",
              "      <td>948 - SIGNS &amp; SYMPTOMS W/O MCC</td>\n",
              "      <td>670056</td>\n",
              "      <td>SETON MEDICAL CENTER HAYS</td>\n",
              "      <td>6001 KYLE PKWY</td>\n",
              "      <td>KYLE</td>\n",
              "      <td>TX</td>\n",
              "      <td>78640</td>\n",
              "      <td>TX - Austin</td>\n",
              "      <td>19</td>\n",
              "      <td>$39121.73</td>\n",
              "      <td>$5704.36</td>\n",
              "      <td>$4058.36</td>\n",
              "    </tr>\n",
              "    <tr>\n",
              "      <th>163063</th>\n",
              "      <td>948 - SIGNS &amp; SYMPTOMS W/O MCC</td>\n",
              "      <td>670060</td>\n",
              "      <td>TEXAS REGIONAL MEDICAL CENTER AT SUNNYVALE</td>\n",
              "      <td>231 SOUTH COLLINS ROAD</td>\n",
              "      <td>SUNNYVALE</td>\n",
              "      <td>TX</td>\n",
              "      <td>75182</td>\n",
              "      <td>TX - Dallas</td>\n",
              "      <td>11</td>\n",
              "      <td>$28873.09</td>\n",
              "      <td>$7663.09</td>\n",
              "      <td>$6848.54</td>\n",
              "    </tr>\n",
              "    <tr>\n",
              "      <th>163064</th>\n",
              "      <td>948 - SIGNS &amp; SYMPTOMS W/O MCC</td>\n",
              "      <td>670068</td>\n",
              "      <td>TEXAS HEALTH PRESBYTERIAN HOSPITAL FLOWER MOUND</td>\n",
              "      <td>4400 LONG PRAIRIE ROAD</td>\n",
              "      <td>FLOWER MOUND</td>\n",
              "      <td>TX</td>\n",
              "      <td>75028</td>\n",
              "      <td>TX - Dallas</td>\n",
              "      <td>12</td>\n",
              "      <td>$15042.00</td>\n",
              "      <td>$3539.75</td>\n",
              "      <td>$2887.41</td>\n",
              "    </tr>\n",
              "  </tbody>\n",
              "</table>\n",
              "</div>\n",
              "      <button class=\"colab-df-convert\" onclick=\"convertToInteractive('df-aea69c8b-6983-4ee4-904c-3dd44ab8250a')\"\n",
              "              title=\"Convert this dataframe to an interactive table.\"\n",
              "              style=\"display:none;\">\n",
              "        \n",
              "  <svg xmlns=\"http://www.w3.org/2000/svg\" height=\"24px\"viewBox=\"0 0 24 24\"\n",
              "       width=\"24px\">\n",
              "    <path d=\"M0 0h24v24H0V0z\" fill=\"none\"/>\n",
              "    <path d=\"M18.56 5.44l.94 2.06.94-2.06 2.06-.94-2.06-.94-.94-2.06-.94 2.06-2.06.94zm-11 1L8.5 8.5l.94-2.06 2.06-.94-2.06-.94L8.5 2.5l-.94 2.06-2.06.94zm10 10l.94 2.06.94-2.06 2.06-.94-2.06-.94-.94-2.06-.94 2.06-2.06.94z\"/><path d=\"M17.41 7.96l-1.37-1.37c-.4-.4-.92-.59-1.43-.59-.52 0-1.04.2-1.43.59L10.3 9.45l-7.72 7.72c-.78.78-.78 2.05 0 2.83L4 21.41c.39.39.9.59 1.41.59.51 0 1.02-.2 1.41-.59l7.78-7.78 2.81-2.81c.8-.78.8-2.07 0-2.86zM5.41 20L4 18.59l7.72-7.72 1.47 1.35L5.41 20z\"/>\n",
              "  </svg>\n",
              "      </button>\n",
              "      \n",
              "  <style>\n",
              "    .colab-df-container {\n",
              "      display:flex;\n",
              "      flex-wrap:wrap;\n",
              "      gap: 12px;\n",
              "    }\n",
              "\n",
              "    .colab-df-convert {\n",
              "      background-color: #E8F0FE;\n",
              "      border: none;\n",
              "      border-radius: 50%;\n",
              "      cursor: pointer;\n",
              "      display: none;\n",
              "      fill: #1967D2;\n",
              "      height: 32px;\n",
              "      padding: 0 0 0 0;\n",
              "      width: 32px;\n",
              "    }\n",
              "\n",
              "    .colab-df-convert:hover {\n",
              "      background-color: #E2EBFA;\n",
              "      box-shadow: 0px 1px 2px rgba(60, 64, 67, 0.3), 0px 1px 3px 1px rgba(60, 64, 67, 0.15);\n",
              "      fill: #174EA6;\n",
              "    }\n",
              "\n",
              "    [theme=dark] .colab-df-convert {\n",
              "      background-color: #3B4455;\n",
              "      fill: #D2E3FC;\n",
              "    }\n",
              "\n",
              "    [theme=dark] .colab-df-convert:hover {\n",
              "      background-color: #434B5C;\n",
              "      box-shadow: 0px 1px 3px 1px rgba(0, 0, 0, 0.15);\n",
              "      filter: drop-shadow(0px 1px 2px rgba(0, 0, 0, 0.3));\n",
              "      fill: #FFFFFF;\n",
              "    }\n",
              "  </style>\n",
              "\n",
              "      <script>\n",
              "        const buttonEl =\n",
              "          document.querySelector('#df-aea69c8b-6983-4ee4-904c-3dd44ab8250a button.colab-df-convert');\n",
              "        buttonEl.style.display =\n",
              "          google.colab.kernel.accessAllowed ? 'block' : 'none';\n",
              "\n",
              "        async function convertToInteractive(key) {\n",
              "          const element = document.querySelector('#df-aea69c8b-6983-4ee4-904c-3dd44ab8250a');\n",
              "          const dataTable =\n",
              "            await google.colab.kernel.invokeFunction('convertToInteractive',\n",
              "                                                     [key], {});\n",
              "          if (!dataTable) return;\n",
              "\n",
              "          const docLinkHtml = 'Like what you see? Visit the ' +\n",
              "            '<a target=\"_blank\" href=https://colab.research.google.com/notebooks/data_table.ipynb>data table notebook</a>'\n",
              "            + ' to learn more about interactive tables.';\n",
              "          element.innerHTML = '';\n",
              "          dataTable['output_type'] = 'display_data';\n",
              "          await google.colab.output.renderOutput(dataTable, element);\n",
              "          const docLink = document.createElement('div');\n",
              "          docLink.innerHTML = docLinkHtml;\n",
              "          element.appendChild(docLink);\n",
              "        }\n",
              "      </script>\n",
              "    </div>\n",
              "  </div>\n",
              "  "
            ]
          },
          "metadata": {},
          "execution_count": 5
        }
      ],
      "source": [
        "#viewing last 5 rows of the data\n",
        "\n",
        "data.tail()"
      ]
    },
    {
      "cell_type": "code",
      "execution_count": null,
      "id": "c54442fa",
      "metadata": {
        "id": "c54442fa",
        "outputId": "106f793f-ebc0-4154-9307-7c05de9a3f93",
        "colab": {
          "base_uri": "https://localhost:8080/"
        }
      },
      "outputs": [
        {
          "output_type": "stream",
          "name": "stdout",
          "text": [
            "There are 163065 rows and 12 columns in our Dataset.\n"
          ]
        }
      ],
      "source": [
        "# Checking the Shape of the dataset\n",
        "\n",
        "numberofrows_1, numberofcolumns_1 = data.shape\n",
        "print('There are {} rows and {} columns'.format(numberofrows_1, numberofcolumns_1)+' in our Dataset.')"
      ]
    },
    {
      "cell_type": "code",
      "execution_count": null,
      "id": "3640b3f9",
      "metadata": {
        "id": "3640b3f9",
        "outputId": "8cd1c749-7480-4ffb-8e7b-6ea8d5d7ef1f",
        "colab": {
          "base_uri": "https://localhost:8080/"
        }
      },
      "outputs": [
        {
          "output_type": "stream",
          "name": "stdout",
          "text": [
            "<class 'pandas.core.frame.DataFrame'>\n",
            "RangeIndex: 163065 entries, 0 to 163064\n",
            "Data columns (total 12 columns):\n",
            " #   Column                                Non-Null Count   Dtype \n",
            "---  ------                                --------------   ----- \n",
            " 0   DRG Definition                        163065 non-null  object\n",
            " 1   Provider Id                           163065 non-null  int64 \n",
            " 2   Provider Name                         163065 non-null  object\n",
            " 3   Provider Street Address               163065 non-null  object\n",
            " 4   Provider City                         163065 non-null  object\n",
            " 5   Provider State                        163065 non-null  object\n",
            " 6   Provider Zip Code                     163065 non-null  int64 \n",
            " 7   Hospital Referral Region Description  163065 non-null  object\n",
            " 8    Total Discharges                     163065 non-null  int64 \n",
            " 9    Average Covered Charges              163065 non-null  object\n",
            " 10   Average Total Payments               163065 non-null  object\n",
            " 11  Average Medicare Payments             163065 non-null  object\n",
            "dtypes: int64(3), object(9)\n",
            "memory usage: 14.9+ MB\n"
          ]
        }
      ],
      "source": [
        "# Information about the datatypes and columns\n",
        "\n",
        "data.info()"
      ]
    },
    {
      "cell_type": "code",
      "execution_count": null,
      "id": "75bb6fb9",
      "metadata": {
        "id": "75bb6fb9",
        "outputId": "1b5eaa5f-8812-4cdd-df7a-19f925d962a9",
        "colab": {
          "base_uri": "https://localhost:8080/",
          "height": 297
        }
      },
      "outputs": [
        {
          "output_type": "execute_result",
          "data": {
            "text/plain": [
              "         Provider Id  Provider Zip Code   Total Discharges \n",
              "count  163065.000000      163065.000000       163065.000000\n",
              "mean   255569.865428       47938.121908           42.776304\n",
              "std    151563.671767       27854.323080           51.104042\n",
              "min     10001.000000        1040.000000           11.000000\n",
              "25%    110092.000000       27261.000000           17.000000\n",
              "50%    250007.000000       44309.000000           27.000000\n",
              "75%    380075.000000       72901.000000           49.000000\n",
              "max    670077.000000       99835.000000         3383.000000"
            ],
            "text/html": [
              "\n",
              "  <div id=\"df-20093964-4d7e-4ea8-b81c-dfaf4f4ee6ce\">\n",
              "    <div class=\"colab-df-container\">\n",
              "      <div>\n",
              "<style scoped>\n",
              "    .dataframe tbody tr th:only-of-type {\n",
              "        vertical-align: middle;\n",
              "    }\n",
              "\n",
              "    .dataframe tbody tr th {\n",
              "        vertical-align: top;\n",
              "    }\n",
              "\n",
              "    .dataframe thead th {\n",
              "        text-align: right;\n",
              "    }\n",
              "</style>\n",
              "<table border=\"1\" class=\"dataframe\">\n",
              "  <thead>\n",
              "    <tr style=\"text-align: right;\">\n",
              "      <th></th>\n",
              "      <th>Provider Id</th>\n",
              "      <th>Provider Zip Code</th>\n",
              "      <th>Total Discharges</th>\n",
              "    </tr>\n",
              "  </thead>\n",
              "  <tbody>\n",
              "    <tr>\n",
              "      <th>count</th>\n",
              "      <td>163065.000000</td>\n",
              "      <td>163065.000000</td>\n",
              "      <td>163065.000000</td>\n",
              "    </tr>\n",
              "    <tr>\n",
              "      <th>mean</th>\n",
              "      <td>255569.865428</td>\n",
              "      <td>47938.121908</td>\n",
              "      <td>42.776304</td>\n",
              "    </tr>\n",
              "    <tr>\n",
              "      <th>std</th>\n",
              "      <td>151563.671767</td>\n",
              "      <td>27854.323080</td>\n",
              "      <td>51.104042</td>\n",
              "    </tr>\n",
              "    <tr>\n",
              "      <th>min</th>\n",
              "      <td>10001.000000</td>\n",
              "      <td>1040.000000</td>\n",
              "      <td>11.000000</td>\n",
              "    </tr>\n",
              "    <tr>\n",
              "      <th>25%</th>\n",
              "      <td>110092.000000</td>\n",
              "      <td>27261.000000</td>\n",
              "      <td>17.000000</td>\n",
              "    </tr>\n",
              "    <tr>\n",
              "      <th>50%</th>\n",
              "      <td>250007.000000</td>\n",
              "      <td>44309.000000</td>\n",
              "      <td>27.000000</td>\n",
              "    </tr>\n",
              "    <tr>\n",
              "      <th>75%</th>\n",
              "      <td>380075.000000</td>\n",
              "      <td>72901.000000</td>\n",
              "      <td>49.000000</td>\n",
              "    </tr>\n",
              "    <tr>\n",
              "      <th>max</th>\n",
              "      <td>670077.000000</td>\n",
              "      <td>99835.000000</td>\n",
              "      <td>3383.000000</td>\n",
              "    </tr>\n",
              "  </tbody>\n",
              "</table>\n",
              "</div>\n",
              "      <button class=\"colab-df-convert\" onclick=\"convertToInteractive('df-20093964-4d7e-4ea8-b81c-dfaf4f4ee6ce')\"\n",
              "              title=\"Convert this dataframe to an interactive table.\"\n",
              "              style=\"display:none;\">\n",
              "        \n",
              "  <svg xmlns=\"http://www.w3.org/2000/svg\" height=\"24px\"viewBox=\"0 0 24 24\"\n",
              "       width=\"24px\">\n",
              "    <path d=\"M0 0h24v24H0V0z\" fill=\"none\"/>\n",
              "    <path d=\"M18.56 5.44l.94 2.06.94-2.06 2.06-.94-2.06-.94-.94-2.06-.94 2.06-2.06.94zm-11 1L8.5 8.5l.94-2.06 2.06-.94-2.06-.94L8.5 2.5l-.94 2.06-2.06.94zm10 10l.94 2.06.94-2.06 2.06-.94-2.06-.94-.94-2.06-.94 2.06-2.06.94z\"/><path d=\"M17.41 7.96l-1.37-1.37c-.4-.4-.92-.59-1.43-.59-.52 0-1.04.2-1.43.59L10.3 9.45l-7.72 7.72c-.78.78-.78 2.05 0 2.83L4 21.41c.39.39.9.59 1.41.59.51 0 1.02-.2 1.41-.59l7.78-7.78 2.81-2.81c.8-.78.8-2.07 0-2.86zM5.41 20L4 18.59l7.72-7.72 1.47 1.35L5.41 20z\"/>\n",
              "  </svg>\n",
              "      </button>\n",
              "      \n",
              "  <style>\n",
              "    .colab-df-container {\n",
              "      display:flex;\n",
              "      flex-wrap:wrap;\n",
              "      gap: 12px;\n",
              "    }\n",
              "\n",
              "    .colab-df-convert {\n",
              "      background-color: #E8F0FE;\n",
              "      border: none;\n",
              "      border-radius: 50%;\n",
              "      cursor: pointer;\n",
              "      display: none;\n",
              "      fill: #1967D2;\n",
              "      height: 32px;\n",
              "      padding: 0 0 0 0;\n",
              "      width: 32px;\n",
              "    }\n",
              "\n",
              "    .colab-df-convert:hover {\n",
              "      background-color: #E2EBFA;\n",
              "      box-shadow: 0px 1px 2px rgba(60, 64, 67, 0.3), 0px 1px 3px 1px rgba(60, 64, 67, 0.15);\n",
              "      fill: #174EA6;\n",
              "    }\n",
              "\n",
              "    [theme=dark] .colab-df-convert {\n",
              "      background-color: #3B4455;\n",
              "      fill: #D2E3FC;\n",
              "    }\n",
              "\n",
              "    [theme=dark] .colab-df-convert:hover {\n",
              "      background-color: #434B5C;\n",
              "      box-shadow: 0px 1px 3px 1px rgba(0, 0, 0, 0.15);\n",
              "      filter: drop-shadow(0px 1px 2px rgba(0, 0, 0, 0.3));\n",
              "      fill: #FFFFFF;\n",
              "    }\n",
              "  </style>\n",
              "\n",
              "      <script>\n",
              "        const buttonEl =\n",
              "          document.querySelector('#df-20093964-4d7e-4ea8-b81c-dfaf4f4ee6ce button.colab-df-convert');\n",
              "        buttonEl.style.display =\n",
              "          google.colab.kernel.accessAllowed ? 'block' : 'none';\n",
              "\n",
              "        async function convertToInteractive(key) {\n",
              "          const element = document.querySelector('#df-20093964-4d7e-4ea8-b81c-dfaf4f4ee6ce');\n",
              "          const dataTable =\n",
              "            await google.colab.kernel.invokeFunction('convertToInteractive',\n",
              "                                                     [key], {});\n",
              "          if (!dataTable) return;\n",
              "\n",
              "          const docLinkHtml = 'Like what you see? Visit the ' +\n",
              "            '<a target=\"_blank\" href=https://colab.research.google.com/notebooks/data_table.ipynb>data table notebook</a>'\n",
              "            + ' to learn more about interactive tables.';\n",
              "          element.innerHTML = '';\n",
              "          dataTable['output_type'] = 'display_data';\n",
              "          await google.colab.output.renderOutput(dataTable, element);\n",
              "          const docLink = document.createElement('div');\n",
              "          docLink.innerHTML = docLinkHtml;\n",
              "          element.appendChild(docLink);\n",
              "        }\n",
              "      </script>\n",
              "    </div>\n",
              "  </div>\n",
              "  "
            ]
          },
          "metadata": {},
          "execution_count": 8
        }
      ],
      "source": [
        "# generating descriptive statistics for overview\n",
        "\n",
        "data.describe()"
      ]
    },
    {
      "cell_type": "code",
      "execution_count": null,
      "id": "10ec5c66",
      "metadata": {
        "id": "10ec5c66",
        "outputId": "c68778da-858c-4d14-8702-5e30fb46242a",
        "colab": {
          "base_uri": "https://localhost:8080/"
        }
      },
      "outputs": [
        {
          "output_type": "execute_result",
          "data": {
            "text/plain": [
              "Index(['DRG Definition', 'Provider Id', 'Provider Name',\n",
              "       'Provider Street Address', 'Provider City', 'Provider State',\n",
              "       'Provider Zip Code', 'Hospital Referral Region Description',\n",
              "       ' Total Discharges ', ' Average Covered Charges ',\n",
              "       ' Average Total Payments ', 'Average Medicare Payments'],\n",
              "      dtype='object')"
            ]
          },
          "metadata": {},
          "execution_count": 9
        }
      ],
      "source": [
        "#listing all the coloumn names\n",
        "data.columns"
      ]
    },
    {
      "cell_type": "code",
      "execution_count": null,
      "id": "0211e349",
      "metadata": {
        "id": "0211e349",
        "outputId": "90b454db-acc8-467f-8aee-a1d03801b3d5",
        "colab": {
          "base_uri": "https://localhost:8080/",
          "height": 497
        }
      },
      "outputs": [
        {
          "output_type": "execute_result",
          "data": {
            "text/plain": [
              "        DRG Definition  Provider Id  Provider Name  Provider Street Address  \\\n",
              "0                False        False          False                    False   \n",
              "1                False        False          False                    False   \n",
              "2                False        False          False                    False   \n",
              "3                False        False          False                    False   \n",
              "4                False        False          False                    False   \n",
              "...                ...          ...            ...                      ...   \n",
              "163060           False        False          False                    False   \n",
              "163061           False        False          False                    False   \n",
              "163062           False        False          False                    False   \n",
              "163063           False        False          False                    False   \n",
              "163064           False        False          False                    False   \n",
              "\n",
              "        Provider City  Provider State  Provider Zip Code  \\\n",
              "0               False           False              False   \n",
              "1               False           False              False   \n",
              "2               False           False              False   \n",
              "3               False           False              False   \n",
              "4               False           False              False   \n",
              "...               ...             ...                ...   \n",
              "163060          False           False              False   \n",
              "163061          False           False              False   \n",
              "163062          False           False              False   \n",
              "163063          False           False              False   \n",
              "163064          False           False              False   \n",
              "\n",
              "        Hospital Referral Region Description   Total Discharges   \\\n",
              "0                                      False               False   \n",
              "1                                      False               False   \n",
              "2                                      False               False   \n",
              "3                                      False               False   \n",
              "4                                      False               False   \n",
              "...                                      ...                 ...   \n",
              "163060                                 False               False   \n",
              "163061                                 False               False   \n",
              "163062                                 False               False   \n",
              "163063                                 False               False   \n",
              "163064                                 False               False   \n",
              "\n",
              "         Average Covered Charges    Average Total Payments   \\\n",
              "0                           False                     False   \n",
              "1                           False                     False   \n",
              "2                           False                     False   \n",
              "3                           False                     False   \n",
              "4                           False                     False   \n",
              "...                           ...                       ...   \n",
              "163060                      False                     False   \n",
              "163061                      False                     False   \n",
              "163062                      False                     False   \n",
              "163063                      False                     False   \n",
              "163064                      False                     False   \n",
              "\n",
              "        Average Medicare Payments  \n",
              "0                           False  \n",
              "1                           False  \n",
              "2                           False  \n",
              "3                           False  \n",
              "4                           False  \n",
              "...                           ...  \n",
              "163060                      False  \n",
              "163061                      False  \n",
              "163062                      False  \n",
              "163063                      False  \n",
              "163064                      False  \n",
              "\n",
              "[163065 rows x 12 columns]"
            ],
            "text/html": [
              "\n",
              "  <div id=\"df-554d4000-1d1a-498c-9676-dc55500a72ee\">\n",
              "    <div class=\"colab-df-container\">\n",
              "      <div>\n",
              "<style scoped>\n",
              "    .dataframe tbody tr th:only-of-type {\n",
              "        vertical-align: middle;\n",
              "    }\n",
              "\n",
              "    .dataframe tbody tr th {\n",
              "        vertical-align: top;\n",
              "    }\n",
              "\n",
              "    .dataframe thead th {\n",
              "        text-align: right;\n",
              "    }\n",
              "</style>\n",
              "<table border=\"1\" class=\"dataframe\">\n",
              "  <thead>\n",
              "    <tr style=\"text-align: right;\">\n",
              "      <th></th>\n",
              "      <th>DRG Definition</th>\n",
              "      <th>Provider Id</th>\n",
              "      <th>Provider Name</th>\n",
              "      <th>Provider Street Address</th>\n",
              "      <th>Provider City</th>\n",
              "      <th>Provider State</th>\n",
              "      <th>Provider Zip Code</th>\n",
              "      <th>Hospital Referral Region Description</th>\n",
              "      <th>Total Discharges</th>\n",
              "      <th>Average Covered Charges</th>\n",
              "      <th>Average Total Payments</th>\n",
              "      <th>Average Medicare Payments</th>\n",
              "    </tr>\n",
              "  </thead>\n",
              "  <tbody>\n",
              "    <tr>\n",
              "      <th>0</th>\n",
              "      <td>False</td>\n",
              "      <td>False</td>\n",
              "      <td>False</td>\n",
              "      <td>False</td>\n",
              "      <td>False</td>\n",
              "      <td>False</td>\n",
              "      <td>False</td>\n",
              "      <td>False</td>\n",
              "      <td>False</td>\n",
              "      <td>False</td>\n",
              "      <td>False</td>\n",
              "      <td>False</td>\n",
              "    </tr>\n",
              "    <tr>\n",
              "      <th>1</th>\n",
              "      <td>False</td>\n",
              "      <td>False</td>\n",
              "      <td>False</td>\n",
              "      <td>False</td>\n",
              "      <td>False</td>\n",
              "      <td>False</td>\n",
              "      <td>False</td>\n",
              "      <td>False</td>\n",
              "      <td>False</td>\n",
              "      <td>False</td>\n",
              "      <td>False</td>\n",
              "      <td>False</td>\n",
              "    </tr>\n",
              "    <tr>\n",
              "      <th>2</th>\n",
              "      <td>False</td>\n",
              "      <td>False</td>\n",
              "      <td>False</td>\n",
              "      <td>False</td>\n",
              "      <td>False</td>\n",
              "      <td>False</td>\n",
              "      <td>False</td>\n",
              "      <td>False</td>\n",
              "      <td>False</td>\n",
              "      <td>False</td>\n",
              "      <td>False</td>\n",
              "      <td>False</td>\n",
              "    </tr>\n",
              "    <tr>\n",
              "      <th>3</th>\n",
              "      <td>False</td>\n",
              "      <td>False</td>\n",
              "      <td>False</td>\n",
              "      <td>False</td>\n",
              "      <td>False</td>\n",
              "      <td>False</td>\n",
              "      <td>False</td>\n",
              "      <td>False</td>\n",
              "      <td>False</td>\n",
              "      <td>False</td>\n",
              "      <td>False</td>\n",
              "      <td>False</td>\n",
              "    </tr>\n",
              "    <tr>\n",
              "      <th>4</th>\n",
              "      <td>False</td>\n",
              "      <td>False</td>\n",
              "      <td>False</td>\n",
              "      <td>False</td>\n",
              "      <td>False</td>\n",
              "      <td>False</td>\n",
              "      <td>False</td>\n",
              "      <td>False</td>\n",
              "      <td>False</td>\n",
              "      <td>False</td>\n",
              "      <td>False</td>\n",
              "      <td>False</td>\n",
              "    </tr>\n",
              "    <tr>\n",
              "      <th>...</th>\n",
              "      <td>...</td>\n",
              "      <td>...</td>\n",
              "      <td>...</td>\n",
              "      <td>...</td>\n",
              "      <td>...</td>\n",
              "      <td>...</td>\n",
              "      <td>...</td>\n",
              "      <td>...</td>\n",
              "      <td>...</td>\n",
              "      <td>...</td>\n",
              "      <td>...</td>\n",
              "      <td>...</td>\n",
              "    </tr>\n",
              "    <tr>\n",
              "      <th>163060</th>\n",
              "      <td>False</td>\n",
              "      <td>False</td>\n",
              "      <td>False</td>\n",
              "      <td>False</td>\n",
              "      <td>False</td>\n",
              "      <td>False</td>\n",
              "      <td>False</td>\n",
              "      <td>False</td>\n",
              "      <td>False</td>\n",
              "      <td>False</td>\n",
              "      <td>False</td>\n",
              "      <td>False</td>\n",
              "    </tr>\n",
              "    <tr>\n",
              "      <th>163061</th>\n",
              "      <td>False</td>\n",
              "      <td>False</td>\n",
              "      <td>False</td>\n",
              "      <td>False</td>\n",
              "      <td>False</td>\n",
              "      <td>False</td>\n",
              "      <td>False</td>\n",
              "      <td>False</td>\n",
              "      <td>False</td>\n",
              "      <td>False</td>\n",
              "      <td>False</td>\n",
              "      <td>False</td>\n",
              "    </tr>\n",
              "    <tr>\n",
              "      <th>163062</th>\n",
              "      <td>False</td>\n",
              "      <td>False</td>\n",
              "      <td>False</td>\n",
              "      <td>False</td>\n",
              "      <td>False</td>\n",
              "      <td>False</td>\n",
              "      <td>False</td>\n",
              "      <td>False</td>\n",
              "      <td>False</td>\n",
              "      <td>False</td>\n",
              "      <td>False</td>\n",
              "      <td>False</td>\n",
              "    </tr>\n",
              "    <tr>\n",
              "      <th>163063</th>\n",
              "      <td>False</td>\n",
              "      <td>False</td>\n",
              "      <td>False</td>\n",
              "      <td>False</td>\n",
              "      <td>False</td>\n",
              "      <td>False</td>\n",
              "      <td>False</td>\n",
              "      <td>False</td>\n",
              "      <td>False</td>\n",
              "      <td>False</td>\n",
              "      <td>False</td>\n",
              "      <td>False</td>\n",
              "    </tr>\n",
              "    <tr>\n",
              "      <th>163064</th>\n",
              "      <td>False</td>\n",
              "      <td>False</td>\n",
              "      <td>False</td>\n",
              "      <td>False</td>\n",
              "      <td>False</td>\n",
              "      <td>False</td>\n",
              "      <td>False</td>\n",
              "      <td>False</td>\n",
              "      <td>False</td>\n",
              "      <td>False</td>\n",
              "      <td>False</td>\n",
              "      <td>False</td>\n",
              "    </tr>\n",
              "  </tbody>\n",
              "</table>\n",
              "<p>163065 rows × 12 columns</p>\n",
              "</div>\n",
              "      <button class=\"colab-df-convert\" onclick=\"convertToInteractive('df-554d4000-1d1a-498c-9676-dc55500a72ee')\"\n",
              "              title=\"Convert this dataframe to an interactive table.\"\n",
              "              style=\"display:none;\">\n",
              "        \n",
              "  <svg xmlns=\"http://www.w3.org/2000/svg\" height=\"24px\"viewBox=\"0 0 24 24\"\n",
              "       width=\"24px\">\n",
              "    <path d=\"M0 0h24v24H0V0z\" fill=\"none\"/>\n",
              "    <path d=\"M18.56 5.44l.94 2.06.94-2.06 2.06-.94-2.06-.94-.94-2.06-.94 2.06-2.06.94zm-11 1L8.5 8.5l.94-2.06 2.06-.94-2.06-.94L8.5 2.5l-.94 2.06-2.06.94zm10 10l.94 2.06.94-2.06 2.06-.94-2.06-.94-.94-2.06-.94 2.06-2.06.94z\"/><path d=\"M17.41 7.96l-1.37-1.37c-.4-.4-.92-.59-1.43-.59-.52 0-1.04.2-1.43.59L10.3 9.45l-7.72 7.72c-.78.78-.78 2.05 0 2.83L4 21.41c.39.39.9.59 1.41.59.51 0 1.02-.2 1.41-.59l7.78-7.78 2.81-2.81c.8-.78.8-2.07 0-2.86zM5.41 20L4 18.59l7.72-7.72 1.47 1.35L5.41 20z\"/>\n",
              "  </svg>\n",
              "      </button>\n",
              "      \n",
              "  <style>\n",
              "    .colab-df-container {\n",
              "      display:flex;\n",
              "      flex-wrap:wrap;\n",
              "      gap: 12px;\n",
              "    }\n",
              "\n",
              "    .colab-df-convert {\n",
              "      background-color: #E8F0FE;\n",
              "      border: none;\n",
              "      border-radius: 50%;\n",
              "      cursor: pointer;\n",
              "      display: none;\n",
              "      fill: #1967D2;\n",
              "      height: 32px;\n",
              "      padding: 0 0 0 0;\n",
              "      width: 32px;\n",
              "    }\n",
              "\n",
              "    .colab-df-convert:hover {\n",
              "      background-color: #E2EBFA;\n",
              "      box-shadow: 0px 1px 2px rgba(60, 64, 67, 0.3), 0px 1px 3px 1px rgba(60, 64, 67, 0.15);\n",
              "      fill: #174EA6;\n",
              "    }\n",
              "\n",
              "    [theme=dark] .colab-df-convert {\n",
              "      background-color: #3B4455;\n",
              "      fill: #D2E3FC;\n",
              "    }\n",
              "\n",
              "    [theme=dark] .colab-df-convert:hover {\n",
              "      background-color: #434B5C;\n",
              "      box-shadow: 0px 1px 3px 1px rgba(0, 0, 0, 0.15);\n",
              "      filter: drop-shadow(0px 1px 2px rgba(0, 0, 0, 0.3));\n",
              "      fill: #FFFFFF;\n",
              "    }\n",
              "  </style>\n",
              "\n",
              "      <script>\n",
              "        const buttonEl =\n",
              "          document.querySelector('#df-554d4000-1d1a-498c-9676-dc55500a72ee button.colab-df-convert');\n",
              "        buttonEl.style.display =\n",
              "          google.colab.kernel.accessAllowed ? 'block' : 'none';\n",
              "\n",
              "        async function convertToInteractive(key) {\n",
              "          const element = document.querySelector('#df-554d4000-1d1a-498c-9676-dc55500a72ee');\n",
              "          const dataTable =\n",
              "            await google.colab.kernel.invokeFunction('convertToInteractive',\n",
              "                                                     [key], {});\n",
              "          if (!dataTable) return;\n",
              "\n",
              "          const docLinkHtml = 'Like what you see? Visit the ' +\n",
              "            '<a target=\"_blank\" href=https://colab.research.google.com/notebooks/data_table.ipynb>data table notebook</a>'\n",
              "            + ' to learn more about interactive tables.';\n",
              "          element.innerHTML = '';\n",
              "          dataTable['output_type'] = 'display_data';\n",
              "          await google.colab.output.renderOutput(dataTable, element);\n",
              "          const docLink = document.createElement('div');\n",
              "          docLink.innerHTML = docLinkHtml;\n",
              "          element.appendChild(docLink);\n",
              "        }\n",
              "      </script>\n",
              "    </div>\n",
              "  </div>\n",
              "  "
            ]
          },
          "metadata": {},
          "execution_count": 10
        }
      ],
      "source": [
        "#visualizing the null values in the dataset\n",
        "data.isnull()"
      ]
    },
    {
      "cell_type": "code",
      "execution_count": null,
      "id": "0d9eb1c4",
      "metadata": {
        "scrolled": true,
        "id": "0d9eb1c4",
        "outputId": "06445bd8-1e0e-4956-ea83-71312c6ec7cf",
        "colab": {
          "base_uri": "https://localhost:8080/"
        }
      },
      "outputs": [
        {
          "output_type": "execute_result",
          "data": {
            "text/plain": [
              "DRG Definition                          0\n",
              "Provider Id                             0\n",
              "Provider Name                           0\n",
              "Provider Street Address                 0\n",
              "Provider City                           0\n",
              "Provider State                          0\n",
              "Provider Zip Code                       0\n",
              "Hospital Referral Region Description    0\n",
              " Total Discharges                       0\n",
              " Average Covered Charges                0\n",
              " Average Total Payments                 0\n",
              "Average Medicare Payments               0\n",
              "dtype: int64"
            ]
          },
          "metadata": {},
          "execution_count": 11
        }
      ],
      "source": [
        "#finding the number of null values in each column\n",
        "data.isnull().sum()"
      ]
    },
    {
      "cell_type": "code",
      "execution_count": null,
      "id": "d189aa95",
      "metadata": {
        "id": "d189aa95"
      },
      "outputs": [],
      "source": []
    },
    {
      "cell_type": "code",
      "execution_count": null,
      "id": "0f90fd99",
      "metadata": {
        "id": "0f90fd99",
        "outputId": "f9e7577f-adc8-4210-9cbb-62fcc5b3012e",
        "colab": {
          "base_uri": "https://localhost:8080/"
        }
      },
      "outputs": [
        {
          "output_type": "stream",
          "name": "stdout",
          "text": [
            "DRG Definition                          0\n",
            "Provider Id                             0\n",
            "Provider Name                           0\n",
            "Provider Street Address                 0\n",
            "Provider City                           0\n",
            "Provider State                          0\n",
            "Provider Zip Code                       0\n",
            "Hospital Referral Region Description    0\n",
            " Total Discharges                       0\n",
            " Average Covered Charges                0\n",
            " Average Total Payments                 0\n",
            "Average Medicare Payments               0\n",
            "dtype: int64\n",
            "DRG Definition                          0.0\n",
            "Provider Id                             0.0\n",
            "Provider Name                           0.0\n",
            "Provider Street Address                 0.0\n",
            "Provider City                           0.0\n",
            "Provider State                          0.0\n",
            "Provider Zip Code                       0.0\n",
            "Hospital Referral Region Description    0.0\n",
            " Total Discharges                       0.0\n",
            " Average Covered Charges                0.0\n",
            " Average Total Payments                 0.0\n",
            "Average Medicare Payments               0.0\n",
            "dtype: float64\n"
          ]
        }
      ],
      "source": [
        "Value_Missing = data.isnull().sum().sort_values(ascending = False)\n",
        "print(Value_Missing)\n",
        "percent_missing = (data.isnull().sum() * 100 / len(data)).round(2).sort_values(ascending = False)\n",
        "print(percent_missing)"
      ]
    },
    {
      "cell_type": "code",
      "execution_count": null,
      "id": "28d66c17",
      "metadata": {
        "id": "28d66c17",
        "outputId": "ebdd7dfe-8d64-44d0-cd43-fd3ba618f9b5",
        "colab": {
          "base_uri": "https://localhost:8080/"
        }
      },
      "outputs": [
        {
          "output_type": "stream",
          "name": "stdout",
          "text": [
            "No duplicated entries found.\n"
          ]
        }
      ],
      "source": [
        "# Generate count statistics of duplicate entries\n",
        "\n",
        "if (len(data[data.duplicated()]) > 0):\n",
        "    print('No. of duplicated entries: ', len(data[data.duplicated()]))\n",
        "    print(data[data.duplicated(keep = False)].sort_values(by = list(data.columns)).head())\n",
        "else:\n",
        "    print('No duplicated entries found.')"
      ]
    },
    {
      "cell_type": "code",
      "execution_count": null,
      "id": "fd880e30",
      "metadata": {
        "id": "fd880e30"
      },
      "outputs": [],
      "source": [
        "#Finding the duplicate values in the dataset"
      ]
    },
    {
      "cell_type": "code",
      "execution_count": null,
      "id": "278e2286",
      "metadata": {
        "id": "278e2286",
        "outputId": "b896f3a9-89e1-4dff-abfc-90cc75f0cf04",
        "colab": {
          "base_uri": "https://localhost:8080/",
          "height": 421
        }
      },
      "outputs": [
        {
          "output_type": "execute_result",
          "data": {
            "text/plain": [
              "                                      Unique Values\n",
              "DRG Definition                                  100\n",
              "Provider Id                                    3337\n",
              "Provider Name                                  3201\n",
              "Provider Street Address                        3326\n",
              "Provider City                                  1977\n",
              "Provider State                                   51\n",
              "Provider Zip Code                              3053\n",
              "Hospital Referral Region Description            306\n",
              " Total Discharges                               642\n",
              " Average Covered Charges                     160236\n",
              " Average Total Payments                      147842\n",
              "Average Medicare Payments                    150328"
            ],
            "text/html": [
              "\n",
              "  <div id=\"df-24b37974-3314-4f0f-b21a-fe448013b6a5\">\n",
              "    <div class=\"colab-df-container\">\n",
              "      <div>\n",
              "<style scoped>\n",
              "    .dataframe tbody tr th:only-of-type {\n",
              "        vertical-align: middle;\n",
              "    }\n",
              "\n",
              "    .dataframe tbody tr th {\n",
              "        vertical-align: top;\n",
              "    }\n",
              "\n",
              "    .dataframe thead th {\n",
              "        text-align: right;\n",
              "    }\n",
              "</style>\n",
              "<table border=\"1\" class=\"dataframe\">\n",
              "  <thead>\n",
              "    <tr style=\"text-align: right;\">\n",
              "      <th></th>\n",
              "      <th>Unique Values</th>\n",
              "    </tr>\n",
              "  </thead>\n",
              "  <tbody>\n",
              "    <tr>\n",
              "      <th>DRG Definition</th>\n",
              "      <td>100</td>\n",
              "    </tr>\n",
              "    <tr>\n",
              "      <th>Provider Id</th>\n",
              "      <td>3337</td>\n",
              "    </tr>\n",
              "    <tr>\n",
              "      <th>Provider Name</th>\n",
              "      <td>3201</td>\n",
              "    </tr>\n",
              "    <tr>\n",
              "      <th>Provider Street Address</th>\n",
              "      <td>3326</td>\n",
              "    </tr>\n",
              "    <tr>\n",
              "      <th>Provider City</th>\n",
              "      <td>1977</td>\n",
              "    </tr>\n",
              "    <tr>\n",
              "      <th>Provider State</th>\n",
              "      <td>51</td>\n",
              "    </tr>\n",
              "    <tr>\n",
              "      <th>Provider Zip Code</th>\n",
              "      <td>3053</td>\n",
              "    </tr>\n",
              "    <tr>\n",
              "      <th>Hospital Referral Region Description</th>\n",
              "      <td>306</td>\n",
              "    </tr>\n",
              "    <tr>\n",
              "      <th>Total Discharges</th>\n",
              "      <td>642</td>\n",
              "    </tr>\n",
              "    <tr>\n",
              "      <th>Average Covered Charges</th>\n",
              "      <td>160236</td>\n",
              "    </tr>\n",
              "    <tr>\n",
              "      <th>Average Total Payments</th>\n",
              "      <td>147842</td>\n",
              "    </tr>\n",
              "    <tr>\n",
              "      <th>Average Medicare Payments</th>\n",
              "      <td>150328</td>\n",
              "    </tr>\n",
              "  </tbody>\n",
              "</table>\n",
              "</div>\n",
              "      <button class=\"colab-df-convert\" onclick=\"convertToInteractive('df-24b37974-3314-4f0f-b21a-fe448013b6a5')\"\n",
              "              title=\"Convert this dataframe to an interactive table.\"\n",
              "              style=\"display:none;\">\n",
              "        \n",
              "  <svg xmlns=\"http://www.w3.org/2000/svg\" height=\"24px\"viewBox=\"0 0 24 24\"\n",
              "       width=\"24px\">\n",
              "    <path d=\"M0 0h24v24H0V0z\" fill=\"none\"/>\n",
              "    <path d=\"M18.56 5.44l.94 2.06.94-2.06 2.06-.94-2.06-.94-.94-2.06-.94 2.06-2.06.94zm-11 1L8.5 8.5l.94-2.06 2.06-.94-2.06-.94L8.5 2.5l-.94 2.06-2.06.94zm10 10l.94 2.06.94-2.06 2.06-.94-2.06-.94-.94-2.06-.94 2.06-2.06.94z\"/><path d=\"M17.41 7.96l-1.37-1.37c-.4-.4-.92-.59-1.43-.59-.52 0-1.04.2-1.43.59L10.3 9.45l-7.72 7.72c-.78.78-.78 2.05 0 2.83L4 21.41c.39.39.9.59 1.41.59.51 0 1.02-.2 1.41-.59l7.78-7.78 2.81-2.81c.8-.78.8-2.07 0-2.86zM5.41 20L4 18.59l7.72-7.72 1.47 1.35L5.41 20z\"/>\n",
              "  </svg>\n",
              "      </button>\n",
              "      \n",
              "  <style>\n",
              "    .colab-df-container {\n",
              "      display:flex;\n",
              "      flex-wrap:wrap;\n",
              "      gap: 12px;\n",
              "    }\n",
              "\n",
              "    .colab-df-convert {\n",
              "      background-color: #E8F0FE;\n",
              "      border: none;\n",
              "      border-radius: 50%;\n",
              "      cursor: pointer;\n",
              "      display: none;\n",
              "      fill: #1967D2;\n",
              "      height: 32px;\n",
              "      padding: 0 0 0 0;\n",
              "      width: 32px;\n",
              "    }\n",
              "\n",
              "    .colab-df-convert:hover {\n",
              "      background-color: #E2EBFA;\n",
              "      box-shadow: 0px 1px 2px rgba(60, 64, 67, 0.3), 0px 1px 3px 1px rgba(60, 64, 67, 0.15);\n",
              "      fill: #174EA6;\n",
              "    }\n",
              "\n",
              "    [theme=dark] .colab-df-convert {\n",
              "      background-color: #3B4455;\n",
              "      fill: #D2E3FC;\n",
              "    }\n",
              "\n",
              "    [theme=dark] .colab-df-convert:hover {\n",
              "      background-color: #434B5C;\n",
              "      box-shadow: 0px 1px 3px 1px rgba(0, 0, 0, 0.15);\n",
              "      filter: drop-shadow(0px 1px 2px rgba(0, 0, 0, 0.3));\n",
              "      fill: #FFFFFF;\n",
              "    }\n",
              "  </style>\n",
              "\n",
              "      <script>\n",
              "        const buttonEl =\n",
              "          document.querySelector('#df-24b37974-3314-4f0f-b21a-fe448013b6a5 button.colab-df-convert');\n",
              "        buttonEl.style.display =\n",
              "          google.colab.kernel.accessAllowed ? 'block' : 'none';\n",
              "\n",
              "        async function convertToInteractive(key) {\n",
              "          const element = document.querySelector('#df-24b37974-3314-4f0f-b21a-fe448013b6a5');\n",
              "          const dataTable =\n",
              "            await google.colab.kernel.invokeFunction('convertToInteractive',\n",
              "                                                     [key], {});\n",
              "          if (!dataTable) return;\n",
              "\n",
              "          const docLinkHtml = 'Like what you see? Visit the ' +\n",
              "            '<a target=\"_blank\" href=https://colab.research.google.com/notebooks/data_table.ipynb>data table notebook</a>'\n",
              "            + ' to learn more about interactive tables.';\n",
              "          element.innerHTML = '';\n",
              "          dataTable['output_type'] = 'display_data';\n",
              "          await google.colab.output.renderOutput(dataTable, element);\n",
              "          const docLink = document.createElement('div');\n",
              "          docLink.innerHTML = docLinkHtml;\n",
              "          element.appendChild(docLink);\n",
              "        }\n",
              "      </script>\n",
              "    </div>\n",
              "  </div>\n",
              "  "
            ]
          },
          "metadata": {},
          "execution_count": 15
        }
      ],
      "source": [
        "# Unique values of all features\n",
        "\n",
        "data.nunique().to_frame(name = 'Unique Values')"
      ]
    },
    {
      "cell_type": "code",
      "execution_count": null,
      "id": "725628d1",
      "metadata": {
        "id": "725628d1"
      },
      "outputs": [],
      "source": [
        "#importing seaborn library\n",
        "import seaborn as sns\n",
        "#importing matplot library\n",
        "import matplotlib.pyplot as plt"
      ]
    },
    {
      "cell_type": "code",
      "execution_count": null,
      "id": "ea1ee4ac",
      "metadata": {
        "id": "ea1ee4ac",
        "outputId": "71bdf705-2390-4bb0-9061-0c7de9a5b3d9",
        "colab": {
          "base_uri": "https://localhost:8080/"
        }
      },
      "outputs": [
        {
          "output_type": "execute_result",
          "data": {
            "text/plain": [
              "0         $4763.73\n",
              "1         $4976.71\n",
              "2         $4453.79\n",
              "3         $4129.16\n",
              "4         $4851.44\n",
              "            ...   \n",
              "163060    $3071.39\n",
              "163061    $2649.72\n",
              "163062    $4058.36\n",
              "163063    $6848.54\n",
              "163064    $2887.41\n",
              "Name: Average Medicare Payments, Length: 163065, dtype: object"
            ]
          },
          "metadata": {},
          "execution_count": 17
        }
      ],
      "source": [
        "data['Average Medicare Payments']"
      ]
    },
    {
      "cell_type": "code",
      "execution_count": null,
      "id": "d7b0387c",
      "metadata": {
        "id": "d7b0387c"
      },
      "outputs": [],
      "source": [
        "data['Average Medicare Payments'] = data['Average Medicare Payments'].str.strip(\"$\")"
      ]
    },
    {
      "cell_type": "code",
      "execution_count": null,
      "id": "9ad3105a",
      "metadata": {
        "id": "9ad3105a",
        "outputId": "d5e3e9c9-be91-4d1d-c3a4-28bd50cd7d37",
        "colab": {
          "base_uri": "https://localhost:8080/"
        }
      },
      "outputs": [
        {
          "output_type": "execute_result",
          "data": {
            "text/plain": [
              "0         4763.73\n",
              "1         4976.71\n",
              "2         4453.79\n",
              "3         4129.16\n",
              "4         4851.44\n",
              "           ...   \n",
              "163060    3071.39\n",
              "163061    2649.72\n",
              "163062    4058.36\n",
              "163063    6848.54\n",
              "163064    2887.41\n",
              "Name: Average Medicare Payments, Length: 163065, dtype: object"
            ]
          },
          "metadata": {},
          "execution_count": 19
        }
      ],
      "source": [
        "data['Average Medicare Payments']"
      ]
    },
    {
      "cell_type": "code",
      "execution_count": null,
      "id": "37ecf24b",
      "metadata": {
        "id": "37ecf24b",
        "outputId": "325503db-46a1-4a05-f71c-2c55a9b7f45a",
        "colab": {
          "base_uri": "https://localhost:8080/"
        }
      },
      "outputs": [
        {
          "output_type": "execute_result",
          "data": {
            "text/plain": [
              "0         $32963.07\n",
              "1         $15131.85\n",
              "2         $37560.37\n",
              "3         $13998.28\n",
              "4         $31633.27\n",
              "            ...    \n",
              "163060    $26314.39\n",
              "163061    $21704.72\n",
              "163062    $39121.73\n",
              "163063    $28873.09\n",
              "163064    $15042.00\n",
              "Name:  Average Covered Charges , Length: 163065, dtype: object"
            ]
          },
          "metadata": {},
          "execution_count": 20
        }
      ],
      "source": [
        "data[' Average Covered Charges ']"
      ]
    },
    {
      "cell_type": "code",
      "execution_count": null,
      "id": "a322e0a0",
      "metadata": {
        "id": "a322e0a0"
      },
      "outputs": [],
      "source": [
        "data[' Average Covered Charges '] = data[' Average Covered Charges '].str.strip(\"$\")"
      ]
    },
    {
      "cell_type": "code",
      "execution_count": null,
      "id": "ba0df943",
      "metadata": {
        "id": "ba0df943",
        "outputId": "bd6c55c4-d3c6-4da7-c8f7-995741bbb238",
        "colab": {
          "base_uri": "https://localhost:8080/"
        }
      },
      "outputs": [
        {
          "output_type": "execute_result",
          "data": {
            "text/plain": [
              "0         32963.07\n",
              "1         15131.85\n",
              "2         37560.37\n",
              "3         13998.28\n",
              "4         31633.27\n",
              "            ...   \n",
              "163060    26314.39\n",
              "163061    21704.72\n",
              "163062    39121.73\n",
              "163063    28873.09\n",
              "163064    15042.00\n",
              "Name:  Average Covered Charges , Length: 163065, dtype: object"
            ]
          },
          "metadata": {},
          "execution_count": 22
        }
      ],
      "source": [
        "data[' Average Covered Charges ']"
      ]
    },
    {
      "cell_type": "code",
      "execution_count": null,
      "id": "a910b68d",
      "metadata": {
        "id": "a910b68d",
        "outputId": "61caddc1-a508-4f6e-d9ae-ed590899a3a1",
        "colab": {
          "base_uri": "https://localhost:8080/"
        }
      },
      "outputs": [
        {
          "output_type": "execute_result",
          "data": {
            "text/plain": [
              "0         $5777.24\n",
              "1         $5787.57\n",
              "2         $5434.95\n",
              "3         $5417.56\n",
              "4         $5658.33\n",
              "            ...   \n",
              "163060    $3806.86\n",
              "163061    $4027.36\n",
              "163062    $5704.36\n",
              "163063    $7663.09\n",
              "163064    $3539.75\n",
              "Name:  Average Total Payments , Length: 163065, dtype: object"
            ]
          },
          "metadata": {},
          "execution_count": 23
        }
      ],
      "source": [
        "data[' Average Total Payments ']"
      ]
    },
    {
      "cell_type": "code",
      "source": [
        "data[' Average Total Payments '] = data[' Average Total Payments '].str.strip(\"$\")"
      ],
      "metadata": {
        "id": "pFP3-6Wiu0ps"
      },
      "id": "pFP3-6Wiu0ps",
      "execution_count": null,
      "outputs": []
    },
    {
      "cell_type": "code",
      "source": [
        "data[' Average Total Payments ']"
      ],
      "metadata": {
        "id": "LFzwFqVZu76x",
        "outputId": "ee94fec1-e3e4-4a45-99e6-41cfe23f8f18",
        "colab": {
          "base_uri": "https://localhost:8080/"
        }
      },
      "id": "LFzwFqVZu76x",
      "execution_count": null,
      "outputs": [
        {
          "output_type": "execute_result",
          "data": {
            "text/plain": [
              "0         5777.24\n",
              "1         5787.57\n",
              "2         5434.95\n",
              "3         5417.56\n",
              "4         5658.33\n",
              "           ...   \n",
              "163060    3806.86\n",
              "163061    4027.36\n",
              "163062    5704.36\n",
              "163063    7663.09\n",
              "163064    3539.75\n",
              "Name:  Average Total Payments , Length: 163065, dtype: object"
            ]
          },
          "metadata": {},
          "execution_count": 25
        }
      ]
    },
    {
      "cell_type": "code",
      "source": [],
      "metadata": {
        "id": "QFITTHMau-mL"
      },
      "id": "QFITTHMau-mL",
      "execution_count": null,
      "outputs": []
    },
    {
      "cell_type": "code",
      "source": [],
      "metadata": {
        "id": "YduN5ZtBvAnJ"
      },
      "id": "YduN5ZtBvAnJ",
      "execution_count": null,
      "outputs": []
    },
    {
      "cell_type": "code",
      "source": [
        "sns.distplot(data[\"Provider Zip Code\"],bins = \"auto\")"
      ],
      "metadata": {
        "id": "3fBFdk-NvA53",
        "outputId": "125c7b9a-8e2d-419f-8de2-4fff0e2c082c",
        "colab": {
          "base_uri": "https://localhost:8080/",
          "height": 361
        }
      },
      "id": "3fBFdk-NvA53",
      "execution_count": null,
      "outputs": [
        {
          "output_type": "stream",
          "name": "stderr",
          "text": [
            "/usr/local/lib/python3.7/dist-packages/seaborn/distributions.py:2619: FutureWarning: `distplot` is a deprecated function and will be removed in a future version. Please adapt your code to use either `displot` (a figure-level function with similar flexibility) or `histplot` (an axes-level function for histograms).\n",
            "  warnings.warn(msg, FutureWarning)\n"
          ]
        },
        {
          "output_type": "execute_result",
          "data": {
            "text/plain": [
              "<matplotlib.axes._subplots.AxesSubplot at 0x7f70751f3c90>"
            ]
          },
          "metadata": {},
          "execution_count": 26
        },
        {
          "output_type": "display_data",
          "data": {
            "text/plain": [
              "<Figure size 432x288 with 1 Axes>"
            ],
            "image/png": "[encoded data removed]"
          },
          "metadata": {
            "needs_background": "light"
          }
        }
      ]
    },
    {
      "cell_type": "code",
      "source": [
        "sns.distplot(data[\"Average Medicare Payments\"],bins = \"auto\")"
      ],
      "metadata": {
        "id": "oRMyzK-5vDyr",
        "outputId": "e068d4ba-fdd0-4878-843b-bd966a5037f3",
        "colab": {
          "base_uri": "https://localhost:8080/",
          "height": 350
        }
      },
      "id": "oRMyzK-5vDyr",
      "execution_count": null,
      "outputs": [
        {
          "output_type": "stream",
          "name": "stderr",
          "text": [
            "/usr/local/lib/python3.7/dist-packages/seaborn/distributions.py:2619: FutureWarning: `distplot` is a deprecated function and will be removed in a future version. Please adapt your code to use either `displot` (a figure-level function with similar flexibility) or `histplot` (an axes-level function for histograms).\n",
            "  warnings.warn(msg, FutureWarning)\n"
          ]
        },
        {
          "output_type": "execute_result",
          "data": {
            "text/plain": [
              "<matplotlib.axes._subplots.AxesSubplot at 0x7f707608fc10>"
            ]
          },
          "metadata": {},
          "execution_count": 27
        },
        {
          "output_type": "display_data",
          "data": {
            "text/plain": [
              "<Figure size 432x288 with 1 Axes>"
            ],
            "image/png": "[encoded data removed]"
          },
          "metadata": {
            "needs_background": "light"
          }
        }
      ]
    },
    {
      "cell_type": "code",
      "source": [
        "sns.distplot(data[\" Average Total Payments \"],bins = \"auto\")"
      ],
      "metadata": {
        "id": "XVd_phCAvMkv",
        "outputId": "ac2298ba-6f1c-4986-cb0b-e4e5cbe77c9a",
        "colab": {
          "base_uri": "https://localhost:8080/",
          "height": 350
        }
      },
      "id": "XVd_phCAvMkv",
      "execution_count": null,
      "outputs": [
        {
          "output_type": "stream",
          "name": "stderr",
          "text": [
            "/usr/local/lib/python3.7/dist-packages/seaborn/distributions.py:2619: FutureWarning: `distplot` is a deprecated function and will be removed in a future version. Please adapt your code to use either `displot` (a figure-level function with similar flexibility) or `histplot` (an axes-level function for histograms).\n",
            "  warnings.warn(msg, FutureWarning)\n"
          ]
        },
        {
          "output_type": "execute_result",
          "data": {
            "text/plain": [
              "<matplotlib.axes._subplots.AxesSubplot at 0x7f70652e3a50>"
            ]
          },
          "metadata": {},
          "execution_count": 28
        },
        {
          "output_type": "display_data",
          "data": {
            "text/plain": [
              "<Figure size 432x288 with 1 Axes>"
            ],
            "image/png": "[encoded data removed]"
          },
          "metadata": {
            "needs_background": "light"
          }
        }
      ]
    },
    {
      "cell_type": "code",
      "source": [
        "sns.distplot(data[\" Average Covered Charges \"],bins = \"auto\")"
      ],
      "metadata": {
        "id": "G7tvkME5vPNX",
        "outputId": "71f29b9c-e6d5-4227-98e1-13c60990f4a6",
        "colab": {
          "base_uri": "https://localhost:8080/",
          "height": 361
        }
      },
      "id": "G7tvkME5vPNX",
      "execution_count": null,
      "outputs": [
        {
          "output_type": "stream",
          "name": "stderr",
          "text": [
            "/usr/local/lib/python3.7/dist-packages/seaborn/distributions.py:2619: FutureWarning: `distplot` is a deprecated function and will be removed in a future version. Please adapt your code to use either `displot` (a figure-level function with similar flexibility) or `histplot` (an axes-level function for histograms).\n",
            "  warnings.warn(msg, FutureWarning)\n"
          ]
        },
        {
          "output_type": "execute_result",
          "data": {
            "text/plain": [
              "<matplotlib.axes._subplots.AxesSubplot at 0x7f70652bdb90>"
            ]
          },
          "metadata": {},
          "execution_count": 29
        },
        {
          "output_type": "display_data",
          "data": {
            "text/plain": [
              "<Figure size 432x288 with 1 Axes>"
            ],
            "image/png": "[encoded data removed]"
          },
          "metadata": {
            "needs_background": "light"
          }
        }
      ]
    },
    {
      "cell_type": "code",
      "source": [
        "sns.distplot(data[\" Total Discharges \"],bins = \"auto\")"
      ],
      "metadata": {
        "id": "OL6t1lx4vRz5",
        "outputId": "fbd8786c-da79-49ef-b2b8-f472d3c82c61",
        "colab": {
          "base_uri": "https://localhost:8080/",
          "height": 350
        }
      },
      "id": "OL6t1lx4vRz5",
      "execution_count": null,
      "outputs": [
        {
          "output_type": "stream",
          "name": "stderr",
          "text": [
            "/usr/local/lib/python3.7/dist-packages/seaborn/distributions.py:2619: FutureWarning: `distplot` is a deprecated function and will be removed in a future version. Please adapt your code to use either `displot` (a figure-level function with similar flexibility) or `histplot` (an axes-level function for histograms).\n",
            "  warnings.warn(msg, FutureWarning)\n"
          ]
        },
        {
          "output_type": "execute_result",
          "data": {
            "text/plain": [
              "<matplotlib.axes._subplots.AxesSubplot at 0x7f7063ead750>"
            ]
          },
          "metadata": {},
          "execution_count": 30
        },
        {
          "output_type": "display_data",
          "data": {
            "text/plain": [
              "<Figure size 432x288 with 1 Axes>"
            ],
            "image/png": "[encoded data removed]"
          },
          "metadata": {
            "needs_background": "light"
          }
        }
      ]
    },
    {
      "cell_type": "code",
      "source": [
        "sns.distplot(data[\"Provider Id\"],bins = \"auto\")"
      ],
      "metadata": {
        "id": "IN9UWxTCvUod",
        "outputId": "cade3834-c292-4c63-90ff-0d42f8967fb6",
        "colab": {
          "base_uri": "https://localhost:8080/",
          "height": 361
        }
      },
      "id": "IN9UWxTCvUod",
      "execution_count": null,
      "outputs": [
        {
          "output_type": "stream",
          "name": "stderr",
          "text": [
            "/usr/local/lib/python3.7/dist-packages/seaborn/distributions.py:2619: FutureWarning: `distplot` is a deprecated function and will be removed in a future version. Please adapt your code to use either `displot` (a figure-level function with similar flexibility) or `histplot` (an axes-level function for histograms).\n",
            "  warnings.warn(msg, FutureWarning)\n"
          ]
        },
        {
          "output_type": "execute_result",
          "data": {
            "text/plain": [
              "<matplotlib.axes._subplots.AxesSubplot at 0x7f7063d46350>"
            ]
          },
          "metadata": {},
          "execution_count": 31
        },
        {
          "output_type": "display_data",
          "data": {
            "text/plain": [
              "<Figure size 432x288 with 1 Axes>"
            ],
            "image/png": "[encoded data removed]"
          },
          "metadata": {
            "needs_background": "light"
          }
        }
      ]
    },
    {
      "cell_type": "code",
      "source": [],
      "metadata": {
        "id": "HCgtMTR7vXM0"
      },
      "id": "HCgtMTR7vXM0",
      "execution_count": null,
      "outputs": []
    }
  ],
  "metadata": {
    "kernelspec": {
      "display_name": "Python 3 (ipykernel)",
      "language": "python",
      "name": "python3"
    },
    "language_info": {
      "codemirror_mode": {
        "name": "ipython",
        "version": 3
      },
      "file_extension": ".py",
      "mimetype": "text/x-python",
      "name": "python",
      "nbconvert_exporter": "python",
      "pygments_lexer": "ipython3",
      "version": "3.9.12"
    },
    "colab": {
      "provenance": [],
      "collapsed_sections": [],
      "include_colab_link": true
    }
  },
  "nbformat": 4,
  "nbformat_minor": 5
}